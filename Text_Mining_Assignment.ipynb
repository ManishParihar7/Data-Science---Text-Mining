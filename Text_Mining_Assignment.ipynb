{
 "cells": [
  {
   "cell_type": "markdown",
   "id": "600d716c",
   "metadata": {},
   "source": [
    "# Problem statement-1\n",
    "1) Perform sentimental analysis on the Elon-musk tweets (Exlon-musk.csv)"
   ]
  },
  {
   "cell_type": "code",
   "execution_count": 1,
   "id": "af90e281",
   "metadata": {},
   "outputs": [],
   "source": [
    "#importing libraries\n",
    "import re\n",
    "import numpy as np\n",
    "import pandas as pd\n",
    "import seaborn as sns"
   ]
  },
  {
   "cell_type": "code",
   "execution_count": 2,
   "id": "e1b9b882",
   "metadata": {},
   "outputs": [],
   "source": [
    "#reading the dataset\n",
    "elon=pd.read_csv(\"Elon_musk.csv\",encoding='cp1252')"
   ]
  },
  {
   "cell_type": "markdown",
   "id": "42d905fc",
   "metadata": {},
   "source": [
    "# EDA"
   ]
  },
  {
   "cell_type": "code",
   "execution_count": 3,
   "id": "0edad7f9",
   "metadata": {},
   "outputs": [
    {
     "data": {
      "text/html": [
       "<div>\n",
       "<style scoped>\n",
       "    .dataframe tbody tr th:only-of-type {\n",
       "        vertical-align: middle;\n",
       "    }\n",
       "\n",
       "    .dataframe tbody tr th {\n",
       "        vertical-align: top;\n",
       "    }\n",
       "\n",
       "    .dataframe thead th {\n",
       "        text-align: right;\n",
       "    }\n",
       "</style>\n",
       "<table border=\"1\" class=\"dataframe\">\n",
       "  <thead>\n",
       "    <tr style=\"text-align: right;\">\n",
       "      <th></th>\n",
       "      <th>Unnamed: 0</th>\n",
       "      <th>Text</th>\n",
       "    </tr>\n",
       "  </thead>\n",
       "  <tbody>\n",
       "    <tr>\n",
       "      <th>0</th>\n",
       "      <td>1</td>\n",
       "      <td>@kunalb11 I’m an alien</td>\n",
       "    </tr>\n",
       "    <tr>\n",
       "      <th>1</th>\n",
       "      <td>2</td>\n",
       "      <td>@ID_AA_Carmack Ray tracing on Cyberpunk with H...</td>\n",
       "    </tr>\n",
       "    <tr>\n",
       "      <th>2</th>\n",
       "      <td>3</td>\n",
       "      <td>@joerogan @Spotify Great interview!</td>\n",
       "    </tr>\n",
       "    <tr>\n",
       "      <th>3</th>\n",
       "      <td>4</td>\n",
       "      <td>@gtera27 Doge is underestimated</td>\n",
       "    </tr>\n",
       "    <tr>\n",
       "      <th>4</th>\n",
       "      <td>5</td>\n",
       "      <td>@teslacn Congratulations Tesla China for amazi...</td>\n",
       "    </tr>\n",
       "    <tr>\n",
       "      <th>5</th>\n",
       "      <td>6</td>\n",
       "      <td>Happy New Year of the Ox! https://t.co/9WFKMYu2oj</td>\n",
       "    </tr>\n",
       "    <tr>\n",
       "      <th>6</th>\n",
       "      <td>7</td>\n",
       "      <td>Frodo was the underdoge,\\nAll thought he would...</td>\n",
       "    </tr>\n",
       "  </tbody>\n",
       "</table>\n",
       "</div>"
      ],
      "text/plain": [
       "   Unnamed: 0                                               Text\n",
       "0           1                             @kunalb11 I’m an alien\n",
       "1           2  @ID_AA_Carmack Ray tracing on Cyberpunk with H...\n",
       "2           3                @joerogan @Spotify Great interview!\n",
       "3           4                    @gtera27 Doge is underestimated\n",
       "4           5  @teslacn Congratulations Tesla China for amazi...\n",
       "5           6  Happy New Year of the Ox! https://t.co/9WFKMYu2oj\n",
       "6           7  Frodo was the underdoge,\\nAll thought he would..."
      ]
     },
     "execution_count": 3,
     "metadata": {},
     "output_type": "execute_result"
    }
   ],
   "source": [
    "# displays the first few rows of the DataFrame\n",
    "elon.head(7)"
   ]
  },
  {
   "cell_type": "code",
   "execution_count": 4,
   "id": "933582e5",
   "metadata": {},
   "outputs": [
    {
     "name": "stdout",
     "output_type": "stream",
     "text": [
      "<class 'pandas.core.frame.DataFrame'>\n",
      "RangeIndex: 1999 entries, 0 to 1998\n",
      "Data columns (total 2 columns):\n",
      " #   Column      Non-Null Count  Dtype \n",
      "---  ------      --------------  ----- \n",
      " 0   Unnamed: 0  1999 non-null   int64 \n",
      " 1   Text        1999 non-null   object\n",
      "dtypes: int64(1), object(1)\n",
      "memory usage: 31.4+ KB\n"
     ]
    }
   ],
   "source": [
    "# summary of the DataFrame\n",
    "elon.info()"
   ]
  },
  {
   "cell_type": "markdown",
   "id": "a5612410",
   "metadata": {},
   "source": [
    "# Pre-processing\n",
    "The code performs several pre-processing steps on the text data from the \"Elon_musk.csv\" file. It removes symbols and spaces, converts the text to lowercase, removes stopwords, performs stemming, and re-joins the processed text."
   ]
  },
  {
   "cell_type": "markdown",
   "id": "17e1509c",
   "metadata": {},
   "source": [
    "# Step 1 : Removing spaces and symbol"
   ]
  },
  {
   "cell_type": "code",
   "execution_count": 5,
   "id": "c8fd04fb",
   "metadata": {},
   "outputs": [],
   "source": [
    "#remove all non-alphabetic characters (except spaces) \n",
    "elon.Text=elon.Text.apply(lambda x: re.sub('[^a-zA-Z ]', \"\", x))"
   ]
  },
  {
   "cell_type": "code",
   "execution_count": 6,
   "id": "50d3252e",
   "metadata": {},
   "outputs": [
    {
     "data": {
      "text/plain": [
       "0                                      kunalb Im an alien\n",
       "1       IDAACarmack Ray tracing on Cyberpunk with HDR ...\n",
       "2                        joerogan Spotify Great interview\n",
       "3                            gtera Doge is underestimated\n",
       "4       teslacn Congratulations Tesla China for amazin...\n",
       "                              ...                        \n",
       "1994    flcnhvy True it sounds so surreal but the nega...\n",
       "1995    PPathole Make sure to read ur terms amp condit...\n",
       "1996                    TeslaGong PPathole Samwise Gamgee\n",
       "1997               PPathole Altho Dumb and Dumber is UFUF\n",
       "1998                              Progress update August \n",
       "Name: Text, Length: 1999, dtype: object"
      ]
     },
     "execution_count": 6,
     "metadata": {},
     "output_type": "execute_result"
    }
   ],
   "source": [
    "elon.Text"
   ]
  },
  {
   "cell_type": "code",
   "execution_count": 7,
   "id": "a69d2032",
   "metadata": {},
   "outputs": [
    {
     "data": {
      "text/plain": [
       "'I am cool you know  '"
      ]
     },
     "execution_count": 7,
     "metadata": {},
     "output_type": "execute_result"
    }
   ],
   "source": [
    "#to remove all non-alphabetic characters \n",
    "re.sub('[^a-zA-Z ]', \"\", \"I am cool you know $$$$ ;\")"
   ]
  },
  {
   "cell_type": "markdown",
   "id": "9aae97fb",
   "metadata": {},
   "source": [
    "# Inference\n",
    "The provided code eliminates all non-alphabetic characters from a given string by using the re.sub() function from the Python re package. Any character that is not an uppercase or lowercase letter (a-z or A-Z) or a space is matched by the regular expression [a-zA-Z].\n",
    "\n",
    "All matches of this pattern are effectively removed from the original string by the re.sub() method, which substitutes all matches with an empty string. In the example given, the output string is \"I am cool you know $$$$\" after the regular expression substitution has been used to replace the input string.\n",
    "\n",
    "\n",
    "The conclusion drawn from the code is that it successfully eliminates all non-alphabetic characters, leaving the final string to include just alphabetic characters and spaces.\n"
   ]
  },
  {
   "cell_type": "code",
   "execution_count": 8,
   "id": "8bd4a91b",
   "metadata": {},
   "outputs": [
    {
     "data": {
      "text/html": [
       "<div>\n",
       "<style scoped>\n",
       "    .dataframe tbody tr th:only-of-type {\n",
       "        vertical-align: middle;\n",
       "    }\n",
       "\n",
       "    .dataframe tbody tr th {\n",
       "        vertical-align: top;\n",
       "    }\n",
       "\n",
       "    .dataframe thead th {\n",
       "        text-align: right;\n",
       "    }\n",
       "</style>\n",
       "<table border=\"1\" class=\"dataframe\">\n",
       "  <thead>\n",
       "    <tr style=\"text-align: right;\">\n",
       "      <th></th>\n",
       "      <th>Unnamed: 0</th>\n",
       "      <th>Text</th>\n",
       "    </tr>\n",
       "  </thead>\n",
       "  <tbody>\n",
       "    <tr>\n",
       "      <th>0</th>\n",
       "      <td>1</td>\n",
       "      <td>kunalb Im an alien</td>\n",
       "    </tr>\n",
       "    <tr>\n",
       "      <th>1</th>\n",
       "      <td>2</td>\n",
       "      <td>IDAACarmack Ray tracing on Cyberpunk with HDR ...</td>\n",
       "    </tr>\n",
       "    <tr>\n",
       "      <th>2</th>\n",
       "      <td>3</td>\n",
       "      <td>joerogan Spotify Great interview</td>\n",
       "    </tr>\n",
       "    <tr>\n",
       "      <th>3</th>\n",
       "      <td>4</td>\n",
       "      <td>gtera Doge is underestimated</td>\n",
       "    </tr>\n",
       "    <tr>\n",
       "      <th>4</th>\n",
       "      <td>5</td>\n",
       "      <td>teslacn Congratulations Tesla China for amazin...</td>\n",
       "    </tr>\n",
       "    <tr>\n",
       "      <th>5</th>\n",
       "      <td>6</td>\n",
       "      <td>Happy New Year of the Ox httpstcoWFKMYuoj</td>\n",
       "    </tr>\n",
       "    <tr>\n",
       "      <th>6</th>\n",
       "      <td>7</td>\n",
       "      <td>Frodo was the underdogeAll thought he would fa...</td>\n",
       "    </tr>\n",
       "  </tbody>\n",
       "</table>\n",
       "</div>"
      ],
      "text/plain": [
       "   Unnamed: 0                                               Text\n",
       "0           1                                 kunalb Im an alien\n",
       "1           2  IDAACarmack Ray tracing on Cyberpunk with HDR ...\n",
       "2           3                   joerogan Spotify Great interview\n",
       "3           4                       gtera Doge is underestimated\n",
       "4           5  teslacn Congratulations Tesla China for amazin...\n",
       "5           6          Happy New Year of the Ox httpstcoWFKMYuoj\n",
       "6           7  Frodo was the underdogeAll thought he would fa..."
      ]
     },
     "execution_count": 8,
     "metadata": {},
     "output_type": "execute_result"
    }
   ],
   "source": [
    "elon.head(7)"
   ]
  },
  {
   "cell_type": "markdown",
   "id": "b6852c38",
   "metadata": {},
   "source": [
    "# Step - 2 : Make text to lower"
   ]
  },
  {
   "cell_type": "code",
   "execution_count": 9,
   "id": "97dfe5cf",
   "metadata": {},
   "outputs": [],
   "source": [
    "#convert the text in each row of the Text column to lowercase\n",
    "elon.Text=elon.Text.apply(lambda x: x.lower())"
   ]
  },
  {
   "cell_type": "code",
   "execution_count": 10,
   "id": "b6281ebe",
   "metadata": {},
   "outputs": [
    {
     "data": {
      "text/html": [
       "<div>\n",
       "<style scoped>\n",
       "    .dataframe tbody tr th:only-of-type {\n",
       "        vertical-align: middle;\n",
       "    }\n",
       "\n",
       "    .dataframe tbody tr th {\n",
       "        vertical-align: top;\n",
       "    }\n",
       "\n",
       "    .dataframe thead th {\n",
       "        text-align: right;\n",
       "    }\n",
       "</style>\n",
       "<table border=\"1\" class=\"dataframe\">\n",
       "  <thead>\n",
       "    <tr style=\"text-align: right;\">\n",
       "      <th></th>\n",
       "      <th>Unnamed: 0</th>\n",
       "      <th>Text</th>\n",
       "    </tr>\n",
       "  </thead>\n",
       "  <tbody>\n",
       "    <tr>\n",
       "      <th>0</th>\n",
       "      <td>1</td>\n",
       "      <td>kunalb im an alien</td>\n",
       "    </tr>\n",
       "    <tr>\n",
       "      <th>1</th>\n",
       "      <td>2</td>\n",
       "      <td>idaacarmack ray tracing on cyberpunk with hdr ...</td>\n",
       "    </tr>\n",
       "    <tr>\n",
       "      <th>2</th>\n",
       "      <td>3</td>\n",
       "      <td>joerogan spotify great interview</td>\n",
       "    </tr>\n",
       "    <tr>\n",
       "      <th>3</th>\n",
       "      <td>4</td>\n",
       "      <td>gtera doge is underestimated</td>\n",
       "    </tr>\n",
       "    <tr>\n",
       "      <th>4</th>\n",
       "      <td>5</td>\n",
       "      <td>teslacn congratulations tesla china for amazin...</td>\n",
       "    </tr>\n",
       "    <tr>\n",
       "      <th>5</th>\n",
       "      <td>6</td>\n",
       "      <td>happy new year of the ox httpstcowfkmyuoj</td>\n",
       "    </tr>\n",
       "    <tr>\n",
       "      <th>6</th>\n",
       "      <td>7</td>\n",
       "      <td>frodo was the underdogeall thought he would fa...</td>\n",
       "    </tr>\n",
       "  </tbody>\n",
       "</table>\n",
       "</div>"
      ],
      "text/plain": [
       "   Unnamed: 0                                               Text\n",
       "0           1                                 kunalb im an alien\n",
       "1           2  idaacarmack ray tracing on cyberpunk with hdr ...\n",
       "2           3                   joerogan spotify great interview\n",
       "3           4                       gtera doge is underestimated\n",
       "4           5  teslacn congratulations tesla china for amazin...\n",
       "5           6          happy new year of the ox httpstcowfkmyuoj\n",
       "6           7  frodo was the underdogeall thought he would fa..."
      ]
     },
     "execution_count": 10,
     "metadata": {},
     "output_type": "execute_result"
    }
   ],
   "source": [
    "elon.head(7)"
   ]
  },
  {
   "cell_type": "code",
   "execution_count": 11,
   "id": "16c0a529",
   "metadata": {},
   "outputs": [
    {
     "name": "stderr",
     "output_type": "stream",
     "text": [
      "[nltk_data] Downloading package stopwords to\n",
      "[nltk_data]     C:\\Users\\Asus\\AppData\\Roaming\\nltk_data...\n",
      "[nltk_data]   Package stopwords is already up-to-date!\n"
     ]
    }
   ],
   "source": [
    "#reduces words to their base or root form\n",
    "import nltk  \n",
    "nltk.download('stopwords') \n",
    "from nltk.corpus import stopwords  \n",
    "from nltk.stem.porter import PorterStemmer "
   ]
  },
  {
   "cell_type": "code",
   "execution_count": 12,
   "id": "620df294",
   "metadata": {
    "scrolled": false
   },
   "outputs": [
    {
     "name": "stderr",
     "output_type": "stream",
     "text": [
      "[nltk_data] Downloading package stopwords to\n",
      "[nltk_data]     C:\\Users\\Asus\\AppData\\Roaming\\nltk_data...\n",
      "[nltk_data]   Package stopwords is already up-to-date!\n"
     ]
    },
    {
     "data": {
      "text/plain": [
       "True"
      ]
     },
     "execution_count": 12,
     "metadata": {},
     "output_type": "execute_result"
    }
   ],
   "source": [
    "#Downloading the stopwords \n",
    "import nltk\n",
    "nltk.download('stopwords')"
   ]
  },
  {
   "cell_type": "markdown",
   "id": "ca862a5f",
   "metadata": {},
   "source": [
    "# Infernce\n",
    "The NLTK library is being used to download the stopwords corpus, enabling you to access and use stopwords in your text-processing activities.\n"
   ]
  },
  {
   "cell_type": "markdown",
   "id": "e64a874d",
   "metadata": {},
   "source": [
    "# Step 3:- Splitting the words from line"
   ]
  },
  {
   "cell_type": "code",
   "execution_count": 13,
   "id": "37af3fb6",
   "metadata": {},
   "outputs": [],
   "source": [
    "#splitting the text into a list of words\n",
    "elon.Text=elon.Text.apply(lambda x: x.split())"
   ]
  },
  {
   "cell_type": "code",
   "execution_count": 14,
   "id": "982e80e8",
   "metadata": {},
   "outputs": [
    {
     "data": {
      "text/html": [
       "<div>\n",
       "<style scoped>\n",
       "    .dataframe tbody tr th:only-of-type {\n",
       "        vertical-align: middle;\n",
       "    }\n",
       "\n",
       "    .dataframe tbody tr th {\n",
       "        vertical-align: top;\n",
       "    }\n",
       "\n",
       "    .dataframe thead th {\n",
       "        text-align: right;\n",
       "    }\n",
       "</style>\n",
       "<table border=\"1\" class=\"dataframe\">\n",
       "  <thead>\n",
       "    <tr style=\"text-align: right;\">\n",
       "      <th></th>\n",
       "      <th>Unnamed: 0</th>\n",
       "      <th>Text</th>\n",
       "    </tr>\n",
       "  </thead>\n",
       "  <tbody>\n",
       "    <tr>\n",
       "      <th>0</th>\n",
       "      <td>1</td>\n",
       "      <td>[kunalb, im, an, alien]</td>\n",
       "    </tr>\n",
       "    <tr>\n",
       "      <th>1</th>\n",
       "      <td>2</td>\n",
       "      <td>[idaacarmack, ray, tracing, on, cyberpunk, wit...</td>\n",
       "    </tr>\n",
       "    <tr>\n",
       "      <th>2</th>\n",
       "      <td>3</td>\n",
       "      <td>[joerogan, spotify, great, interview]</td>\n",
       "    </tr>\n",
       "    <tr>\n",
       "      <th>3</th>\n",
       "      <td>4</td>\n",
       "      <td>[gtera, doge, is, underestimated]</td>\n",
       "    </tr>\n",
       "    <tr>\n",
       "      <th>4</th>\n",
       "      <td>5</td>\n",
       "      <td>[teslacn, congratulations, tesla, china, for, ...</td>\n",
       "    </tr>\n",
       "    <tr>\n",
       "      <th>5</th>\n",
       "      <td>6</td>\n",
       "      <td>[happy, new, year, of, the, ox, httpstcowfkmyuoj]</td>\n",
       "    </tr>\n",
       "    <tr>\n",
       "      <th>6</th>\n",
       "      <td>7</td>\n",
       "      <td>[frodo, was, the, underdogeall, thought, he, w...</td>\n",
       "    </tr>\n",
       "  </tbody>\n",
       "</table>\n",
       "</div>"
      ],
      "text/plain": [
       "   Unnamed: 0                                               Text\n",
       "0           1                            [kunalb, im, an, alien]\n",
       "1           2  [idaacarmack, ray, tracing, on, cyberpunk, wit...\n",
       "2           3              [joerogan, spotify, great, interview]\n",
       "3           4                  [gtera, doge, is, underestimated]\n",
       "4           5  [teslacn, congratulations, tesla, china, for, ...\n",
       "5           6  [happy, new, year, of, the, ox, httpstcowfkmyuoj]\n",
       "6           7  [frodo, was, the, underdogeall, thought, he, w..."
      ]
     },
     "execution_count": 14,
     "metadata": {},
     "output_type": "execute_result"
    }
   ],
   "source": [
    "elon.head(7)"
   ]
  },
  {
   "cell_type": "markdown",
   "id": "2f710fae",
   "metadata": {},
   "source": [
    "# Step 4 :- Removing Stopwords"
   ]
  },
  {
   "cell_type": "code",
   "execution_count": 15,
   "id": "3ce9a69d",
   "metadata": {},
   "outputs": [],
   "source": [
    "#removes stopwords from the text \n",
    "elon.Text=elon.Text.apply(lambda x: [word  for word in x if word not in set(stopwords.words('english'))])"
   ]
  },
  {
   "cell_type": "code",
   "execution_count": 16,
   "id": "031f9fb9",
   "metadata": {},
   "outputs": [
    {
     "data": {
      "text/html": [
       "<div>\n",
       "<style scoped>\n",
       "    .dataframe tbody tr th:only-of-type {\n",
       "        vertical-align: middle;\n",
       "    }\n",
       "\n",
       "    .dataframe tbody tr th {\n",
       "        vertical-align: top;\n",
       "    }\n",
       "\n",
       "    .dataframe thead th {\n",
       "        text-align: right;\n",
       "    }\n",
       "</style>\n",
       "<table border=\"1\" class=\"dataframe\">\n",
       "  <thead>\n",
       "    <tr style=\"text-align: right;\">\n",
       "      <th></th>\n",
       "      <th>Unnamed: 0</th>\n",
       "      <th>Text</th>\n",
       "    </tr>\n",
       "  </thead>\n",
       "  <tbody>\n",
       "    <tr>\n",
       "      <th>0</th>\n",
       "      <td>1</td>\n",
       "      <td>[kunalb, im, alien]</td>\n",
       "    </tr>\n",
       "    <tr>\n",
       "      <th>1</th>\n",
       "      <td>2</td>\n",
       "      <td>[idaacarmack, ray, tracing, cyberpunk, hdr, ne...</td>\n",
       "    </tr>\n",
       "    <tr>\n",
       "      <th>2</th>\n",
       "      <td>3</td>\n",
       "      <td>[joerogan, spotify, great, interview]</td>\n",
       "    </tr>\n",
       "    <tr>\n",
       "      <th>3</th>\n",
       "      <td>4</td>\n",
       "      <td>[gtera, doge, underestimated]</td>\n",
       "    </tr>\n",
       "    <tr>\n",
       "      <th>4</th>\n",
       "      <td>5</td>\n",
       "      <td>[teslacn, congratulations, tesla, china, amazi...</td>\n",
       "    </tr>\n",
       "    <tr>\n",
       "      <th>5</th>\n",
       "      <td>6</td>\n",
       "      <td>[happy, new, year, ox, httpstcowfkmyuoj]</td>\n",
       "    </tr>\n",
       "    <tr>\n",
       "      <th>6</th>\n",
       "      <td>7</td>\n",
       "      <td>[frodo, underdogeall, thought, would, failhims...</td>\n",
       "    </tr>\n",
       "  </tbody>\n",
       "</table>\n",
       "</div>"
      ],
      "text/plain": [
       "   Unnamed: 0                                               Text\n",
       "0           1                                [kunalb, im, alien]\n",
       "1           2  [idaacarmack, ray, tracing, cyberpunk, hdr, ne...\n",
       "2           3              [joerogan, spotify, great, interview]\n",
       "3           4                      [gtera, doge, underestimated]\n",
       "4           5  [teslacn, congratulations, tesla, china, amazi...\n",
       "5           6           [happy, new, year, ox, httpstcowfkmyuoj]\n",
       "6           7  [frodo, underdogeall, thought, would, failhims..."
      ]
     },
     "execution_count": 16,
     "metadata": {},
     "output_type": "execute_result"
    }
   ],
   "source": [
    "elon.head(7)"
   ]
  },
  {
   "cell_type": "code",
   "execution_count": 17,
   "id": "de5f37c4",
   "metadata": {},
   "outputs": [
    {
     "data": {
      "text/plain": [
       "['i',\n",
       " 'me',\n",
       " 'my',\n",
       " 'myself',\n",
       " 'we',\n",
       " 'our',\n",
       " 'ours',\n",
       " 'ourselves',\n",
       " 'you',\n",
       " \"you're\",\n",
       " \"you've\",\n",
       " \"you'll\",\n",
       " \"you'd\",\n",
       " 'your',\n",
       " 'yours',\n",
       " 'yourself',\n",
       " 'yourselves',\n",
       " 'he',\n",
       " 'him',\n",
       " 'his',\n",
       " 'himself',\n",
       " 'she',\n",
       " \"she's\",\n",
       " 'her',\n",
       " 'hers',\n",
       " 'herself',\n",
       " 'it',\n",
       " \"it's\",\n",
       " 'its',\n",
       " 'itself',\n",
       " 'they',\n",
       " 'them',\n",
       " 'their',\n",
       " 'theirs',\n",
       " 'themselves',\n",
       " 'what',\n",
       " 'which',\n",
       " 'who',\n",
       " 'whom',\n",
       " 'this',\n",
       " 'that',\n",
       " \"that'll\",\n",
       " 'these',\n",
       " 'those',\n",
       " 'am',\n",
       " 'is',\n",
       " 'are',\n",
       " 'was',\n",
       " 'were',\n",
       " 'be',\n",
       " 'been',\n",
       " 'being',\n",
       " 'have',\n",
       " 'has',\n",
       " 'had',\n",
       " 'having',\n",
       " 'do',\n",
       " 'does',\n",
       " 'did',\n",
       " 'doing',\n",
       " 'a',\n",
       " 'an',\n",
       " 'the',\n",
       " 'and',\n",
       " 'but',\n",
       " 'if',\n",
       " 'or',\n",
       " 'because',\n",
       " 'as',\n",
       " 'until',\n",
       " 'while',\n",
       " 'of',\n",
       " 'at',\n",
       " 'by',\n",
       " 'for',\n",
       " 'with',\n",
       " 'about',\n",
       " 'against',\n",
       " 'between',\n",
       " 'into',\n",
       " 'through',\n",
       " 'during',\n",
       " 'before',\n",
       " 'after',\n",
       " 'above',\n",
       " 'below',\n",
       " 'to',\n",
       " 'from',\n",
       " 'up',\n",
       " 'down',\n",
       " 'in',\n",
       " 'out',\n",
       " 'on',\n",
       " 'off',\n",
       " 'over',\n",
       " 'under',\n",
       " 'again',\n",
       " 'further',\n",
       " 'then',\n",
       " 'once',\n",
       " 'here',\n",
       " 'there',\n",
       " 'when',\n",
       " 'where',\n",
       " 'why',\n",
       " 'how',\n",
       " 'all',\n",
       " 'any',\n",
       " 'both',\n",
       " 'each',\n",
       " 'few',\n",
       " 'more',\n",
       " 'most',\n",
       " 'other',\n",
       " 'some',\n",
       " 'such',\n",
       " 'no',\n",
       " 'nor',\n",
       " 'not',\n",
       " 'only',\n",
       " 'own',\n",
       " 'same',\n",
       " 'so',\n",
       " 'than',\n",
       " 'too',\n",
       " 'very',\n",
       " 's',\n",
       " 't',\n",
       " 'can',\n",
       " 'will',\n",
       " 'just',\n",
       " 'don',\n",
       " \"don't\",\n",
       " 'should',\n",
       " \"should've\",\n",
       " 'now',\n",
       " 'd',\n",
       " 'll',\n",
       " 'm',\n",
       " 'o',\n",
       " 're',\n",
       " 've',\n",
       " 'y',\n",
       " 'ain',\n",
       " 'aren',\n",
       " \"aren't\",\n",
       " 'couldn',\n",
       " \"couldn't\",\n",
       " 'didn',\n",
       " \"didn't\",\n",
       " 'doesn',\n",
       " \"doesn't\",\n",
       " 'hadn',\n",
       " \"hadn't\",\n",
       " 'hasn',\n",
       " \"hasn't\",\n",
       " 'haven',\n",
       " \"haven't\",\n",
       " 'isn',\n",
       " \"isn't\",\n",
       " 'ma',\n",
       " 'mightn',\n",
       " \"mightn't\",\n",
       " 'mustn',\n",
       " \"mustn't\",\n",
       " 'needn',\n",
       " \"needn't\",\n",
       " 'shan',\n",
       " \"shan't\",\n",
       " 'shouldn',\n",
       " \"shouldn't\",\n",
       " 'wasn',\n",
       " \"wasn't\",\n",
       " 'weren',\n",
       " \"weren't\",\n",
       " 'won',\n",
       " \"won't\",\n",
       " 'wouldn',\n",
       " \"wouldn't\"]"
      ]
     },
     "execution_count": 17,
     "metadata": {},
     "output_type": "execute_result"
    }
   ],
   "source": [
    "#list of common stopwords in the English language\n",
    "stopwords.words(\"english\")"
   ]
  },
  {
   "cell_type": "markdown",
   "id": "d900280d",
   "metadata": {},
   "source": [
    "# Inference\n",
    "a list of words commonly used in text analysis activities that are frequently regarded as non-discriminatory or uninformative that should be avoided. Pronouns, articles, conjunctions, prepositions, and other frequently used words that lack a clear meaning on their own are examples of stopwords.During tasks like text classification, information retrieval, or natural language processing, these stopwords can be used to filter out certain words from text input, allowing the focus to be on terms that are more relevant and informative.\n"
   ]
  },
  {
   "cell_type": "markdown",
   "id": "b421d63d",
   "metadata": {},
   "source": [
    "# Step 5:- Stemming"
   ]
  },
  {
   "cell_type": "code",
   "execution_count": 18,
   "id": "8e49e098",
   "metadata": {},
   "outputs": [],
   "source": [
    "#Applies stemming\n",
    "ps = PorterStemmer()  \n",
    "elon.Text=elon.Text.apply(lambda x: [ps.stem(word) for word in x])"
   ]
  },
  {
   "cell_type": "code",
   "execution_count": 19,
   "id": "ff35a219",
   "metadata": {},
   "outputs": [
    {
     "data": {
      "text/plain": [
       "0                                  [kunalb, im, alien]\n",
       "1    [idaacarmack, ray, trace, cyberpunk, hdr, next...\n",
       "2                [joerogan, spotifi, great, interview]\n",
       "3                            [gtera, doge, underestim]\n",
       "4    [teslacn, congratul, tesla, china, amaz, execu...\n",
       "5             [happi, new, year, ox, httpstcowfkmyuoj]\n",
       "6    [frodo, underdogeal, thought, would, failhimse...\n",
       "Name: Text, dtype: object"
      ]
     },
     "execution_count": 19,
     "metadata": {},
     "output_type": "execute_result"
    }
   ],
   "source": [
    "elon.Text.head(7)"
   ]
  },
  {
   "cell_type": "markdown",
   "id": "bf448448",
   "metadata": {},
   "source": [
    "# Step 6 :- Rejoining"
   ]
  },
  {
   "cell_type": "code",
   "execution_count": 20,
   "id": "d2d02e55",
   "metadata": {},
   "outputs": [],
   "source": [
    "#Concatenates the list of words\n",
    "elon.Text=elon.Text.apply(lambda x: \" \".join(x))"
   ]
  },
  {
   "cell_type": "code",
   "execution_count": 21,
   "id": "ae1d3901",
   "metadata": {},
   "outputs": [
    {
     "data": {
      "text/plain": [
       "0                                         kunalb im alien\n",
       "1       idaacarmack ray trace cyberpunk hdr nextlevel tri\n",
       "2                        joerogan spotifi great interview\n",
       "3                                   gtera doge underestim\n",
       "4       teslacn congratul tesla china amaz execut last...\n",
       "                              ...                        \n",
       "1994    flcnhvi true sound surreal neg propaganda stil...\n",
       "1995    ppathol make sure read ur term amp condit clic...\n",
       "1996                       teslagong ppathol samwis gamge\n",
       "1997                       ppathol altho dumb dumber ufuf\n",
       "1998                                progress updat august\n",
       "Name: Text, Length: 1999, dtype: object"
      ]
     },
     "execution_count": 21,
     "metadata": {},
     "output_type": "execute_result"
    }
   ],
   "source": [
    "elon.Text"
   ]
  },
  {
   "cell_type": "markdown",
   "id": "b89894e5",
   "metadata": {},
   "source": [
    "# Sentiment Analysis\n",
    "2) Perform emotion mining"
   ]
  },
  {
   "cell_type": "markdown",
   "id": "fd041175",
   "metadata": {},
   "source": [
    "The code uses the TextBlob library to perform sentiment analysis on the processed text. It assigns a sentiment score to each text entry, indicating the polarity of the sentiment (positive, negative, or neutral)."
   ]
  },
  {
   "cell_type": "code",
   "execution_count": 22,
   "id": "a8ac776e",
   "metadata": {},
   "outputs": [
    {
     "name": "stdout",
     "output_type": "stream",
     "text": [
      "Collecting textblob\n",
      "  Downloading textblob-0.17.1-py2.py3-none-any.whl (636 kB)\n",
      "     ---------------------------------------- 0.0/636.8 kB ? eta -:--:--\n",
      "     --------------- ---------------------- 256.0/636.8 kB 7.9 MB/s eta 0:00:01\n",
      "     -------------------------- ----------- 440.3/636.8 kB 5.5 MB/s eta 0:00:01\n",
      "     -------------------------------------  634.9/636.8 kB 5.0 MB/s eta 0:00:01\n",
      "     -------------------------------------- 636.8/636.8 kB 4.0 MB/s eta 0:00:00\n",
      "Requirement already satisfied: nltk>=3.1 in c:\\users\\asus\\anaconda3\\lib\\site-packages (from textblob) (3.7)\n",
      "Requirement already satisfied: tqdm in c:\\users\\asus\\anaconda3\\lib\\site-packages (from nltk>=3.1->textblob) (4.65.0)\n",
      "Requirement already satisfied: click in c:\\users\\asus\\anaconda3\\lib\\site-packages (from nltk>=3.1->textblob) (8.0.4)\n",
      "Requirement already satisfied: joblib in c:\\users\\asus\\anaconda3\\lib\\site-packages (from nltk>=3.1->textblob) (1.1.1)\n",
      "Requirement already satisfied: regex>=2021.8.3 in c:\\users\\asus\\anaconda3\\lib\\site-packages (from nltk>=3.1->textblob) (2022.7.9)\n",
      "Requirement already satisfied: colorama in c:\\users\\asus\\anaconda3\\lib\\site-packages (from click->nltk>=3.1->textblob) (0.4.6)\n",
      "Installing collected packages: textblob\n",
      "Successfully installed textblob-0.17.1\n",
      "Note: you may need to restart the kernel to use updated packages.\n"
     ]
    }
   ],
   "source": [
    "pip install -U textblob"
   ]
  },
  {
   "cell_type": "code",
   "execution_count": 23,
   "id": "1b0d2abc",
   "metadata": {},
   "outputs": [
    {
     "data": {
      "text/html": [
       "<div>\n",
       "<style scoped>\n",
       "    .dataframe tbody tr th:only-of-type {\n",
       "        vertical-align: middle;\n",
       "    }\n",
       "\n",
       "    .dataframe tbody tr th {\n",
       "        vertical-align: top;\n",
       "    }\n",
       "\n",
       "    .dataframe thead th {\n",
       "        text-align: right;\n",
       "    }\n",
       "</style>\n",
       "<table border=\"1\" class=\"dataframe\">\n",
       "  <thead>\n",
       "    <tr style=\"text-align: right;\">\n",
       "      <th></th>\n",
       "      <th>Text</th>\n",
       "      <th>sentiment</th>\n",
       "    </tr>\n",
       "  </thead>\n",
       "  <tbody>\n",
       "    <tr>\n",
       "      <th>0</th>\n",
       "      <td>kunalb im alien</td>\n",
       "      <td>-0.250000</td>\n",
       "    </tr>\n",
       "    <tr>\n",
       "      <th>1</th>\n",
       "      <td>idaacarmack ray trace cyberpunk hdr nextlevel tri</td>\n",
       "      <td>0.000000</td>\n",
       "    </tr>\n",
       "    <tr>\n",
       "      <th>2</th>\n",
       "      <td>joerogan spotifi great interview</td>\n",
       "      <td>0.800000</td>\n",
       "    </tr>\n",
       "    <tr>\n",
       "      <th>3</th>\n",
       "      <td>gtera doge underestim</td>\n",
       "      <td>0.000000</td>\n",
       "    </tr>\n",
       "    <tr>\n",
       "      <th>4</th>\n",
       "      <td>teslacn congratul tesla china amaz execut last...</td>\n",
       "      <td>0.000000</td>\n",
       "    </tr>\n",
       "    <tr>\n",
       "      <th>5</th>\n",
       "      <td>happi new year ox httpstcowfkmyuoj</td>\n",
       "      <td>0.136364</td>\n",
       "    </tr>\n",
       "    <tr>\n",
       "      <th>6</th>\n",
       "      <td>frodo underdogeal thought would failhimself ht...</td>\n",
       "      <td>0.000000</td>\n",
       "    </tr>\n",
       "  </tbody>\n",
       "</table>\n",
       "</div>"
      ],
      "text/plain": [
       "                                                Text  sentiment\n",
       "0                                    kunalb im alien  -0.250000\n",
       "1  idaacarmack ray trace cyberpunk hdr nextlevel tri   0.000000\n",
       "2                   joerogan spotifi great interview   0.800000\n",
       "3                              gtera doge underestim   0.000000\n",
       "4  teslacn congratul tesla china amaz execut last...   0.000000\n",
       "5                 happi new year ox httpstcowfkmyuoj   0.136364\n",
       "6  frodo underdogeal thought would failhimself ht...   0.000000"
      ]
     },
     "execution_count": 23,
     "metadata": {},
     "output_type": "execute_result"
    }
   ],
   "source": [
    "from textblob import TextBlob\n",
    "elon['sentiment'] = elon['Text'].apply(lambda x:TextBlob(x).sentiment[0] )\n",
    "elon[['Text','sentiment']].head(7)\n",
    "# TextBlob(x).sentiment[1] = sentiment[1]= negative and positive [0], only positive=[1]"
   ]
  },
  {
   "cell_type": "code",
   "execution_count": 24,
   "id": "28c55a69",
   "metadata": {
    "scrolled": true
   },
   "outputs": [
    {
     "data": {
      "text/plain": [
       "0      -0.250000\n",
       "1       0.000000\n",
       "2       0.800000\n",
       "3       0.000000\n",
       "4       0.000000\n",
       "          ...   \n",
       "1994    0.186667\n",
       "1995    0.500000\n",
       "1996    0.000000\n",
       "1997   -0.375000\n",
       "1998    0.000000\n",
       "Name: sentiment, Length: 1999, dtype: float64"
      ]
     },
     "execution_count": 24,
     "metadata": {},
     "output_type": "execute_result"
    }
   ],
   "source": [
    "#Calculates the sentiment\n",
    "elon.sentiment"
   ]
  },
  {
   "cell_type": "markdown",
   "id": "da55637f",
   "metadata": {},
   "source": [
    "# Inference\n",
    "The sentiment score for a specific item or observation is represented by each value in the pandas Series called \"elon.sentiment object,\" which has 1999 entries. The sentiment scores range from -1.0 to 1.0, with a score of 0 denoting neutral sentiment. Negative numbers indicate negative sentiment, while positive values indicate good sentiment.\n",
    "Using various statistical or data analysis approaches, you can further analyse this sentiment information. Each sentiment value correlates to a particular item or observation.\n"
   ]
  },
  {
   "cell_type": "markdown",
   "id": "7cbe479e",
   "metadata": {},
   "source": [
    "# Problem statement -2\n",
    "1) Extract reviews of any product from ecommerce website like amazon"
   ]
  },
  {
   "cell_type": "code",
   "execution_count": 43,
   "id": "f701d513",
   "metadata": {},
   "outputs": [],
   "source": [
    "#Importing libraries\n",
    "import requests\n",
    "from bs4 import BeautifulSoup"
   ]
  },
  {
   "cell_type": "markdown",
   "id": "ddd6b29a",
   "metadata": {},
   "source": [
    "# Scraping reviews using BeautifulSoup"
   ]
  },
  {
   "cell_type": "markdown",
   "id": "cb08aae3",
   "metadata": {},
   "source": [
    "The code uses the BeautifulSoup library and requests module to scrape reviews from an Amazon product page. It retrieves multiple pages of reviews by modifying the URL with different page numbers and stores the reviews in a list."
   ]
  },
  {
   "cell_type": "code",
   "execution_count": 48,
   "id": "a66ca6e8",
   "metadata": {},
   "outputs": [],
   "source": [
    "link=\"https://www.amazon.in/Patanjali-Honey-1kg/product-reviews/B01C8QIBJ0/ref=cm_cr_dp_d_show_all_btm?ie=UTF8&reviewerType=all_reviews\""
   ]
  },
  {
   "cell_type": "code",
   "execution_count": 49,
   "id": "73666462",
   "metadata": {},
   "outputs": [
    {
     "name": "stdout",
     "output_type": "stream",
     "text": [
      "https://www.amazon.in/Patanjali-Honey-1kg/product-reviews/B01C8QIBJ0/ref=cm_cr_dp_d_show_all_btm?ie=UTF8&reviewerType=all_reviews&pageNumber=0\n",
      "https://www.amazon.in/Patanjali-Honey-1kg/product-reviews/B01C8QIBJ0/ref=cm_cr_dp_d_show_all_btm?ie=UTF8&reviewerType=all_reviews&pageNumber=1\n",
      "https://www.amazon.in/Patanjali-Honey-1kg/product-reviews/B01C8QIBJ0/ref=cm_cr_dp_d_show_all_btm?ie=UTF8&reviewerType=all_reviews&pageNumber=2\n",
      "https://www.amazon.in/Patanjali-Honey-1kg/product-reviews/B01C8QIBJ0/ref=cm_cr_dp_d_show_all_btm?ie=UTF8&reviewerType=all_reviews&pageNumber=3\n",
      "https://www.amazon.in/Patanjali-Honey-1kg/product-reviews/B01C8QIBJ0/ref=cm_cr_dp_d_show_all_btm?ie=UTF8&reviewerType=all_reviews&pageNumber=4\n",
      "https://www.amazon.in/Patanjali-Honey-1kg/product-reviews/B01C8QIBJ0/ref=cm_cr_dp_d_show_all_btm?ie=UTF8&reviewerType=all_reviews&pageNumber=5\n"
     ]
    }
   ],
   "source": [
    "review_list=[]\n",
    "for k in range(0,6):\n",
    "    review_link=link+'&pageNumber='+str(k)\n",
    "    print(review_link)\n",
    "    page=requests.get(review_link)\n",
    "    soup=BeautifulSoup(page.content,'html.parser')\n",
    "    reviews=soup.find_all('span',class_='review-text-content')\n",
    "    for i in range(0,len(reviews)):\n",
    "        review_list.append(reviews[i].get_text().strip())"
   ]
  },
  {
   "cell_type": "code",
   "execution_count": 50,
   "id": "1d75e198",
   "metadata": {},
   "outputs": [
    {
     "data": {
      "text/plain": [
       "['Good',\n",
       " 'Regular grocery',\n",
       " 'Good',\n",
       " 'It was the cheapest I could find Online.',\n",
       " 'Been using it for over five years and its okay. Never found it freezing and any change in texture. Have used enough of brands and find this product comparatively cheaper.',\n",
       " 'Using this product from last 5 years, no complaint, brand value and long using experience  gives confidence of no adulteration.',\n",
       " 'Very good taste and quality',\n",
       " 'I think Dabur honey is better than this',\n",
       " 'Good Flavour and Value Product',\n",
       " \"I don't know where from these honey producers are churning out honey in industrial quantity. I have tasted the village honey. This honey is certainly not like the original. It is being sold and purchased due to Patanjali brand name else it is not pure honey.\"]"
      ]
     },
     "execution_count": 50,
     "metadata": {},
     "output_type": "execute_result"
    }
   ],
   "source": [
    "review_list"
   ]
  },
  {
   "cell_type": "code",
   "execution_count": 51,
   "id": "8d224bfb",
   "metadata": {},
   "outputs": [
    {
     "data": {
      "text/plain": [
       "10"
      ]
     },
     "execution_count": 51,
     "metadata": {},
     "output_type": "execute_result"
    }
   ],
   "source": [
    "#indicates the number of collected reviews\n",
    "len(review_list)"
   ]
  },
  {
   "cell_type": "markdown",
   "id": "4147288d",
   "metadata": {},
   "source": [
    "# Inference\n",
    "The review_list is 10 words long. This indicates that review_list has a total of 10 reviews or components.\n"
   ]
  },
  {
   "cell_type": "code",
   "execution_count": 52,
   "id": "b3a40448",
   "metadata": {},
   "outputs": [
    {
     "data": {
      "text/html": [
       "<div>\n",
       "<style scoped>\n",
       "    .dataframe tbody tr th:only-of-type {\n",
       "        vertical-align: middle;\n",
       "    }\n",
       "\n",
       "    .dataframe tbody tr th {\n",
       "        vertical-align: top;\n",
       "    }\n",
       "\n",
       "    .dataframe thead th {\n",
       "        text-align: right;\n",
       "    }\n",
       "</style>\n",
       "<table border=\"1\" class=\"dataframe\">\n",
       "  <thead>\n",
       "    <tr style=\"text-align: right;\">\n",
       "      <th></th>\n",
       "      <th>Reviews</th>\n",
       "    </tr>\n",
       "  </thead>\n",
       "  <tbody>\n",
       "    <tr>\n",
       "      <th>0</th>\n",
       "      <td>Good</td>\n",
       "    </tr>\n",
       "    <tr>\n",
       "      <th>1</th>\n",
       "      <td>Regular grocery</td>\n",
       "    </tr>\n",
       "    <tr>\n",
       "      <th>2</th>\n",
       "      <td>Good</td>\n",
       "    </tr>\n",
       "    <tr>\n",
       "      <th>3</th>\n",
       "      <td>It was the cheapest I could find Online.</td>\n",
       "    </tr>\n",
       "    <tr>\n",
       "      <th>4</th>\n",
       "      <td>Been using it for over five years and its okay. Never found it freezing and any change in texture. Have used enough of brands and find this product comparatively cheaper.</td>\n",
       "    </tr>\n",
       "    <tr>\n",
       "      <th>5</th>\n",
       "      <td>Using this product from last 5 years, no complaint, brand value and long using experience  gives confidence of no adulteration.</td>\n",
       "    </tr>\n",
       "    <tr>\n",
       "      <th>6</th>\n",
       "      <td>Very good taste and quality</td>\n",
       "    </tr>\n",
       "    <tr>\n",
       "      <th>7</th>\n",
       "      <td>I think Dabur honey is better than this</td>\n",
       "    </tr>\n",
       "    <tr>\n",
       "      <th>8</th>\n",
       "      <td>Good Flavour and Value Product</td>\n",
       "    </tr>\n",
       "    <tr>\n",
       "      <th>9</th>\n",
       "      <td>I don't know where from these honey producers are churning out honey in industrial quantity. I have tasted the village honey. This honey is certainly not like the original. It is being sold and purchased due to Patanjali brand name else it is not pure honey.</td>\n",
       "    </tr>\n",
       "  </tbody>\n",
       "</table>\n",
       "</div>"
      ],
      "text/plain": [
       "                                                                                                                                                                                                                                                              Reviews\n",
       "0                                                                                                                                                                                                                                                                Good\n",
       "1                                                                                                                                                                                                                                                     Regular grocery\n",
       "2                                                                                                                                                                                                                                                                Good\n",
       "3                                                                                                                                                                                                                            It was the cheapest I could find Online.\n",
       "4                                                                                          Been using it for over five years and its okay. Never found it freezing and any change in texture. Have used enough of brands and find this product comparatively cheaper.\n",
       "5                                                                                                                                     Using this product from last 5 years, no complaint, brand value and long using experience  gives confidence of no adulteration.\n",
       "6                                                                                                                                                                                                                                         Very good taste and quality\n",
       "7                                                                                                                                                                                                                             I think Dabur honey is better than this\n",
       "8                                                                                                                                                                                                                                      Good Flavour and Value Product\n",
       "9  I don't know where from these honey producers are churning out honey in industrial quantity. I have tasted the village honey. This honey is certainly not like the original. It is being sold and purchased due to Patanjali brand name else it is not pure honey."
      ]
     },
     "execution_count": 52,
     "metadata": {},
     "output_type": "execute_result"
    }
   ],
   "source": [
    "df=pd.DataFrame({'Reviews':review_list})\n",
    "pd.set_option('max_colwidth', 800)\n",
    "df"
   ]
  },
  {
   "cell_type": "markdown",
   "id": "41fab836",
   "metadata": {},
   "source": [
    "# Pre-processing"
   ]
  },
  {
   "cell_type": "code",
   "execution_count": 53,
   "id": "cb6a9fd6",
   "metadata": {},
   "outputs": [],
   "source": [
    "#displays the DataFrame 'df' with the specified maximum column width\n",
    "df.Reviews=df.Reviews.apply(lambda x: re.sub('[^a-zA-Z ]', \"\", x))"
   ]
  },
  {
   "cell_type": "code",
   "execution_count": 54,
   "id": "53926698",
   "metadata": {},
   "outputs": [
    {
     "data": {
      "text/html": [
       "<div>\n",
       "<style scoped>\n",
       "    .dataframe tbody tr th:only-of-type {\n",
       "        vertical-align: middle;\n",
       "    }\n",
       "\n",
       "    .dataframe tbody tr th {\n",
       "        vertical-align: top;\n",
       "    }\n",
       "\n",
       "    .dataframe thead th {\n",
       "        text-align: right;\n",
       "    }\n",
       "</style>\n",
       "<table border=\"1\" class=\"dataframe\">\n",
       "  <thead>\n",
       "    <tr style=\"text-align: right;\">\n",
       "      <th></th>\n",
       "      <th>Reviews</th>\n",
       "    </tr>\n",
       "  </thead>\n",
       "  <tbody>\n",
       "    <tr>\n",
       "      <th>0</th>\n",
       "      <td>Good</td>\n",
       "    </tr>\n",
       "    <tr>\n",
       "      <th>1</th>\n",
       "      <td>Regular grocery</td>\n",
       "    </tr>\n",
       "    <tr>\n",
       "      <th>2</th>\n",
       "      <td>Good</td>\n",
       "    </tr>\n",
       "    <tr>\n",
       "      <th>3</th>\n",
       "      <td>It was the cheapest I could find Online</td>\n",
       "    </tr>\n",
       "    <tr>\n",
       "      <th>4</th>\n",
       "      <td>Been using it for over five years and its okay Never found it freezing and any change in texture Have used enough of brands and find this product comparatively cheaper</td>\n",
       "    </tr>\n",
       "  </tbody>\n",
       "</table>\n",
       "</div>"
      ],
      "text/plain": [
       "                                                                                                                                                                   Reviews\n",
       "0                                                                                                                                                                     Good\n",
       "1                                                                                                                                                          Regular grocery\n",
       "2                                                                                                                                                                     Good\n",
       "3                                                                                                                                  It was the cheapest I could find Online\n",
       "4  Been using it for over five years and its okay Never found it freezing and any change in texture Have used enough of brands and find this product comparatively cheaper"
      ]
     },
     "execution_count": 54,
     "metadata": {},
     "output_type": "execute_result"
    }
   ],
   "source": [
    "df.head()"
   ]
  },
  {
   "cell_type": "markdown",
   "id": "e0a4709d",
   "metadata": {},
   "source": [
    "# Step - 2 : Make text to lower"
   ]
  },
  {
   "cell_type": "code",
   "execution_count": 55,
   "id": "beb30cd6",
   "metadata": {},
   "outputs": [],
   "source": [
    "#Applies a lambda function to the 'Reviews' column\n",
    "df.Reviews=df.Reviews.apply(lambda x: x.lower())"
   ]
  },
  {
   "cell_type": "code",
   "execution_count": 56,
   "id": "978de84c",
   "metadata": {},
   "outputs": [
    {
     "data": {
      "text/html": [
       "<div>\n",
       "<style scoped>\n",
       "    .dataframe tbody tr th:only-of-type {\n",
       "        vertical-align: middle;\n",
       "    }\n",
       "\n",
       "    .dataframe tbody tr th {\n",
       "        vertical-align: top;\n",
       "    }\n",
       "\n",
       "    .dataframe thead th {\n",
       "        text-align: right;\n",
       "    }\n",
       "</style>\n",
       "<table border=\"1\" class=\"dataframe\">\n",
       "  <thead>\n",
       "    <tr style=\"text-align: right;\">\n",
       "      <th></th>\n",
       "      <th>Reviews</th>\n",
       "    </tr>\n",
       "  </thead>\n",
       "  <tbody>\n",
       "    <tr>\n",
       "      <th>0</th>\n",
       "      <td>good</td>\n",
       "    </tr>\n",
       "    <tr>\n",
       "      <th>1</th>\n",
       "      <td>regular grocery</td>\n",
       "    </tr>\n",
       "    <tr>\n",
       "      <th>2</th>\n",
       "      <td>good</td>\n",
       "    </tr>\n",
       "    <tr>\n",
       "      <th>3</th>\n",
       "      <td>it was the cheapest i could find online</td>\n",
       "    </tr>\n",
       "    <tr>\n",
       "      <th>4</th>\n",
       "      <td>been using it for over five years and its okay never found it freezing and any change in texture have used enough of brands and find this product comparatively cheaper</td>\n",
       "    </tr>\n",
       "  </tbody>\n",
       "</table>\n",
       "</div>"
      ],
      "text/plain": [
       "                                                                                                                                                                   Reviews\n",
       "0                                                                                                                                                                     good\n",
       "1                                                                                                                                                          regular grocery\n",
       "2                                                                                                                                                                     good\n",
       "3                                                                                                                                  it was the cheapest i could find online\n",
       "4  been using it for over five years and its okay never found it freezing and any change in texture have used enough of brands and find this product comparatively cheaper"
      ]
     },
     "execution_count": 56,
     "metadata": {},
     "output_type": "execute_result"
    }
   ],
   "source": [
    "df.head()"
   ]
  },
  {
   "cell_type": "markdown",
   "id": "d12a6198",
   "metadata": {},
   "source": [
    "# import stopwords and stemmer"
   ]
  },
  {
   "cell_type": "code",
   "execution_count": 57,
   "id": "ceb3d181",
   "metadata": {},
   "outputs": [
    {
     "name": "stderr",
     "output_type": "stream",
     "text": [
      "[nltk_data] Downloading package stopwords to\n",
      "[nltk_data]     C:\\Users\\Asus\\AppData\\Roaming\\nltk_data...\n",
      "[nltk_data]   Package stopwords is already up-to-date!\n"
     ]
    }
   ],
   "source": [
    "#importing libraries\n",
    "import nltk  \n",
    "nltk.download('stopwords') \n",
    "from nltk.corpus import stopwords  \n",
    "from nltk.stem.porter import PorterStemmer "
   ]
  },
  {
   "cell_type": "markdown",
   "id": "91e468cd",
   "metadata": {},
   "source": [
    "# splitting word from line"
   ]
  },
  {
   "cell_type": "code",
   "execution_count": 58,
   "id": "dbaf5465",
   "metadata": {},
   "outputs": [],
   "source": [
    "#Applies a lambda function to the 'Reviews' column \n",
    "df.Reviews=df.Reviews.apply(lambda x: x.split())"
   ]
  },
  {
   "cell_type": "code",
   "execution_count": 59,
   "id": "ff61c22e",
   "metadata": {},
   "outputs": [
    {
     "data": {
      "text/html": [
       "<div>\n",
       "<style scoped>\n",
       "    .dataframe tbody tr th:only-of-type {\n",
       "        vertical-align: middle;\n",
       "    }\n",
       "\n",
       "    .dataframe tbody tr th {\n",
       "        vertical-align: top;\n",
       "    }\n",
       "\n",
       "    .dataframe thead th {\n",
       "        text-align: right;\n",
       "    }\n",
       "</style>\n",
       "<table border=\"1\" class=\"dataframe\">\n",
       "  <thead>\n",
       "    <tr style=\"text-align: right;\">\n",
       "      <th></th>\n",
       "      <th>Reviews</th>\n",
       "    </tr>\n",
       "  </thead>\n",
       "  <tbody>\n",
       "    <tr>\n",
       "      <th>0</th>\n",
       "      <td>[good]</td>\n",
       "    </tr>\n",
       "    <tr>\n",
       "      <th>1</th>\n",
       "      <td>[regular, grocery]</td>\n",
       "    </tr>\n",
       "    <tr>\n",
       "      <th>2</th>\n",
       "      <td>[good]</td>\n",
       "    </tr>\n",
       "    <tr>\n",
       "      <th>3</th>\n",
       "      <td>[it, was, the, cheapest, i, could, find, online]</td>\n",
       "    </tr>\n",
       "    <tr>\n",
       "      <th>4</th>\n",
       "      <td>[been, using, it, for, over, five, years, and, its, okay, never, found, it, freezing, and, any, change, in, texture, have, used, enough, of, brands, and, find, this, product, comparatively, cheaper]</td>\n",
       "    </tr>\n",
       "  </tbody>\n",
       "</table>\n",
       "</div>"
      ],
      "text/plain": [
       "                                                                                                                                                                                                  Reviews\n",
       "0                                                                                                                                                                                                  [good]\n",
       "1                                                                                                                                                                                      [regular, grocery]\n",
       "2                                                                                                                                                                                                  [good]\n",
       "3                                                                                                                                                        [it, was, the, cheapest, i, could, find, online]\n",
       "4  [been, using, it, for, over, five, years, and, its, okay, never, found, it, freezing, and, any, change, in, texture, have, used, enough, of, brands, and, find, this, product, comparatively, cheaper]"
      ]
     },
     "execution_count": 59,
     "metadata": {},
     "output_type": "execute_result"
    }
   ],
   "source": [
    "df.head()"
   ]
  },
  {
   "cell_type": "markdown",
   "id": "74802a4c",
   "metadata": {},
   "source": [
    "# removing stop words"
   ]
  },
  {
   "cell_type": "code",
   "execution_count": 60,
   "id": "f2e40387",
   "metadata": {},
   "outputs": [],
   "source": [
    "#df.Reviews=df.Reviews.apply(lambda x: [word  for word in x if word not in set(stopwords.words('english'))])\n",
    "df.Reviews=df.Reviews.apply(lambda x: [word  for word in x if word not in set(stopwords.words('english'))])"
   ]
  },
  {
   "cell_type": "code",
   "execution_count": 61,
   "id": "c3157136",
   "metadata": {},
   "outputs": [
    {
     "data": {
      "text/html": [
       "<div>\n",
       "<style scoped>\n",
       "    .dataframe tbody tr th:only-of-type {\n",
       "        vertical-align: middle;\n",
       "    }\n",
       "\n",
       "    .dataframe tbody tr th {\n",
       "        vertical-align: top;\n",
       "    }\n",
       "\n",
       "    .dataframe thead th {\n",
       "        text-align: right;\n",
       "    }\n",
       "</style>\n",
       "<table border=\"1\" class=\"dataframe\">\n",
       "  <thead>\n",
       "    <tr style=\"text-align: right;\">\n",
       "      <th></th>\n",
       "      <th>Reviews</th>\n",
       "    </tr>\n",
       "  </thead>\n",
       "  <tbody>\n",
       "    <tr>\n",
       "      <th>0</th>\n",
       "      <td>[good]</td>\n",
       "    </tr>\n",
       "    <tr>\n",
       "      <th>1</th>\n",
       "      <td>[regular, grocery]</td>\n",
       "    </tr>\n",
       "    <tr>\n",
       "      <th>2</th>\n",
       "      <td>[good]</td>\n",
       "    </tr>\n",
       "    <tr>\n",
       "      <th>3</th>\n",
       "      <td>[cheapest, could, find, online]</td>\n",
       "    </tr>\n",
       "    <tr>\n",
       "      <th>4</th>\n",
       "      <td>[using, five, years, okay, never, found, freezing, change, texture, used, enough, brands, find, product, comparatively, cheaper]</td>\n",
       "    </tr>\n",
       "  </tbody>\n",
       "</table>\n",
       "</div>"
      ],
      "text/plain": [
       "                                                                                                                            Reviews\n",
       "0                                                                                                                            [good]\n",
       "1                                                                                                                [regular, grocery]\n",
       "2                                                                                                                            [good]\n",
       "3                                                                                                   [cheapest, could, find, online]\n",
       "4  [using, five, years, okay, never, found, freezing, change, texture, used, enough, brands, find, product, comparatively, cheaper]"
      ]
     },
     "execution_count": 61,
     "metadata": {},
     "output_type": "execute_result"
    }
   ],
   "source": [
    "df.head()"
   ]
  },
  {
   "cell_type": "markdown",
   "id": "6b17720c",
   "metadata": {},
   "source": [
    "# stemming"
   ]
  },
  {
   "cell_type": "code",
   "execution_count": 62,
   "id": "f2a77acf",
   "metadata": {},
   "outputs": [],
   "source": [
    "#Applies stemming using the PorterStemmer\n",
    "ps = PorterStemmer()  \n",
    "df.Reviews=df.Reviews.apply(lambda x: [ps.stem(word) for word in x])"
   ]
  },
  {
   "cell_type": "code",
   "execution_count": 63,
   "id": "6ad74919",
   "metadata": {},
   "outputs": [
    {
     "data": {
      "text/html": [
       "<div>\n",
       "<style scoped>\n",
       "    .dataframe tbody tr th:only-of-type {\n",
       "        vertical-align: middle;\n",
       "    }\n",
       "\n",
       "    .dataframe tbody tr th {\n",
       "        vertical-align: top;\n",
       "    }\n",
       "\n",
       "    .dataframe thead th {\n",
       "        text-align: right;\n",
       "    }\n",
       "</style>\n",
       "<table border=\"1\" class=\"dataframe\">\n",
       "  <thead>\n",
       "    <tr style=\"text-align: right;\">\n",
       "      <th></th>\n",
       "      <th>Reviews</th>\n",
       "    </tr>\n",
       "  </thead>\n",
       "  <tbody>\n",
       "    <tr>\n",
       "      <th>0</th>\n",
       "      <td>[good]</td>\n",
       "    </tr>\n",
       "    <tr>\n",
       "      <th>1</th>\n",
       "      <td>[regular, groceri]</td>\n",
       "    </tr>\n",
       "    <tr>\n",
       "      <th>2</th>\n",
       "      <td>[good]</td>\n",
       "    </tr>\n",
       "    <tr>\n",
       "      <th>3</th>\n",
       "      <td>[cheapest, could, find, onlin]</td>\n",
       "    </tr>\n",
       "    <tr>\n",
       "      <th>4</th>\n",
       "      <td>[use, five, year, okay, never, found, freez, chang, textur, use, enough, brand, find, product, compar, cheaper]</td>\n",
       "    </tr>\n",
       "  </tbody>\n",
       "</table>\n",
       "</div>"
      ],
      "text/plain": [
       "                                                                                                           Reviews\n",
       "0                                                                                                           [good]\n",
       "1                                                                                               [regular, groceri]\n",
       "2                                                                                                           [good]\n",
       "3                                                                                   [cheapest, could, find, onlin]\n",
       "4  [use, five, year, okay, never, found, freez, chang, textur, use, enough, brand, find, product, compar, cheaper]"
      ]
     },
     "execution_count": 63,
     "metadata": {},
     "output_type": "execute_result"
    }
   ],
   "source": [
    "df.head()"
   ]
  },
  {
   "cell_type": "markdown",
   "id": "3700e766",
   "metadata": {},
   "source": [
    "# rejoining"
   ]
  },
  {
   "cell_type": "code",
   "execution_count": 64,
   "id": "9d218fc8",
   "metadata": {},
   "outputs": [],
   "source": [
    "#Concatenates the list of words in each element of the 'Reviews' column\n",
    "df.Reviews=df.Reviews.apply(lambda x: \" \".join(x))"
   ]
  },
  {
   "cell_type": "code",
   "execution_count": 65,
   "id": "b0a24b68",
   "metadata": {},
   "outputs": [
    {
     "data": {
      "text/html": [
       "<div>\n",
       "<style scoped>\n",
       "    .dataframe tbody tr th:only-of-type {\n",
       "        vertical-align: middle;\n",
       "    }\n",
       "\n",
       "    .dataframe tbody tr th {\n",
       "        vertical-align: top;\n",
       "    }\n",
       "\n",
       "    .dataframe thead th {\n",
       "        text-align: right;\n",
       "    }\n",
       "</style>\n",
       "<table border=\"1\" class=\"dataframe\">\n",
       "  <thead>\n",
       "    <tr style=\"text-align: right;\">\n",
       "      <th></th>\n",
       "      <th>Reviews</th>\n",
       "    </tr>\n",
       "  </thead>\n",
       "  <tbody>\n",
       "    <tr>\n",
       "      <th>0</th>\n",
       "      <td>good</td>\n",
       "    </tr>\n",
       "    <tr>\n",
       "      <th>1</th>\n",
       "      <td>regular groceri</td>\n",
       "    </tr>\n",
       "    <tr>\n",
       "      <th>2</th>\n",
       "      <td>good</td>\n",
       "    </tr>\n",
       "    <tr>\n",
       "      <th>3</th>\n",
       "      <td>cheapest could find onlin</td>\n",
       "    </tr>\n",
       "    <tr>\n",
       "      <th>4</th>\n",
       "      <td>use five year okay never found freez chang textur use enough brand find product compar cheaper</td>\n",
       "    </tr>\n",
       "  </tbody>\n",
       "</table>\n",
       "</div>"
      ],
      "text/plain": [
       "                                                                                          Reviews\n",
       "0                                                                                            good\n",
       "1                                                                                 regular groceri\n",
       "2                                                                                            good\n",
       "3                                                                       cheapest could find onlin\n",
       "4  use five year okay never found freez chang textur use enough brand find product compar cheaper"
      ]
     },
     "execution_count": 65,
     "metadata": {},
     "output_type": "execute_result"
    }
   ],
   "source": [
    "df.head()"
   ]
  },
  {
   "cell_type": "markdown",
   "id": "41323896",
   "metadata": {},
   "source": [
    "# Sentiment Analysis"
   ]
  },
  {
   "cell_type": "markdown",
   "id": "83c870ba",
   "metadata": {},
   "source": [
    "# vader"
   ]
  },
  {
   "cell_type": "code",
   "execution_count": 66,
   "id": "92523ec2",
   "metadata": {},
   "outputs": [
    {
     "name": "stderr",
     "output_type": "stream",
     "text": [
      "[nltk_data] Downloading package vader_lexicon to\n",
      "[nltk_data]     C:\\Users\\Asus\\AppData\\Roaming\\nltk_data...\n"
     ]
    },
    {
     "data": {
      "text/plain": [
       "True"
      ]
     },
     "execution_count": 66,
     "metadata": {},
     "output_type": "execute_result"
    }
   ],
   "source": [
    "#Downloads the 'vader_lexicon' dataset \n",
    "nltk.download('vader_lexicon')"
   ]
  },
  {
   "cell_type": "code",
   "execution_count": 67,
   "id": "01812ed7",
   "metadata": {},
   "outputs": [],
   "source": [
    "#Imports the 'SentimentIntensityAnalyzer' class from the 'nltk.sentiment' module\n",
    "from nltk.sentiment import SentimentIntensityAnalyzer\n",
    "si = SentimentIntensityAnalyzer()"
   ]
  },
  {
   "cell_type": "code",
   "execution_count": 68,
   "id": "6d57a6d1",
   "metadata": {},
   "outputs": [],
   "source": [
    "#calculates the compound sentiment score \n",
    "def sentiment_score(text):\n",
    "    score=si.polarity_scores(text)\n",
    "    return score['compound']"
   ]
  },
  {
   "cell_type": "code",
   "execution_count": 69,
   "id": "c67f0cd9",
   "metadata": {},
   "outputs": [],
   "source": [
    "#new column named 'sentiment_score' in the DataFrame 'df'\n",
    "df['sentiment_score'] = df['Reviews'].apply(lambda x:sentiment_score(x))\n"
   ]
  },
  {
   "cell_type": "code",
   "execution_count": 70,
   "id": "c9543494",
   "metadata": {},
   "outputs": [
    {
     "data": {
      "text/html": [
       "<div>\n",
       "<style scoped>\n",
       "    .dataframe tbody tr th:only-of-type {\n",
       "        vertical-align: middle;\n",
       "    }\n",
       "\n",
       "    .dataframe tbody tr th {\n",
       "        vertical-align: top;\n",
       "    }\n",
       "\n",
       "    .dataframe thead th {\n",
       "        text-align: right;\n",
       "    }\n",
       "</style>\n",
       "<table border=\"1\" class=\"dataframe\">\n",
       "  <thead>\n",
       "    <tr style=\"text-align: right;\">\n",
       "      <th></th>\n",
       "      <th>Reviews</th>\n",
       "      <th>sentiment_score</th>\n",
       "    </tr>\n",
       "  </thead>\n",
       "  <tbody>\n",
       "    <tr>\n",
       "      <th>0</th>\n",
       "      <td>good</td>\n",
       "      <td>0.4404</td>\n",
       "    </tr>\n",
       "    <tr>\n",
       "      <th>1</th>\n",
       "      <td>regular groceri</td>\n",
       "      <td>0.0000</td>\n",
       "    </tr>\n",
       "    <tr>\n",
       "      <th>2</th>\n",
       "      <td>good</td>\n",
       "      <td>0.4404</td>\n",
       "    </tr>\n",
       "    <tr>\n",
       "      <th>3</th>\n",
       "      <td>cheapest could find onlin</td>\n",
       "      <td>0.0000</td>\n",
       "    </tr>\n",
       "    <tr>\n",
       "      <th>4</th>\n",
       "      <td>use five year okay never found freez chang textur use enough brand find product compar cheaper</td>\n",
       "      <td>0.2263</td>\n",
       "    </tr>\n",
       "  </tbody>\n",
       "</table>\n",
       "</div>"
      ],
      "text/plain": [
       "                                                                                          Reviews  \\\n",
       "0                                                                                            good   \n",
       "1                                                                                 regular groceri   \n",
       "2                                                                                            good   \n",
       "3                                                                       cheapest could find onlin   \n",
       "4  use five year okay never found freez chang textur use enough brand find product compar cheaper   \n",
       "\n",
       "   sentiment_score  \n",
       "0           0.4404  \n",
       "1           0.0000  \n",
       "2           0.4404  \n",
       "3           0.0000  \n",
       "4           0.2263  "
      ]
     },
     "execution_count": 70,
     "metadata": {},
     "output_type": "execute_result"
    }
   ],
   "source": [
    "pd.set_option('max_colwidth', 500)\n",
    "df.head()"
   ]
  },
  {
   "cell_type": "code",
   "execution_count": 71,
   "id": "48248109",
   "metadata": {},
   "outputs": [],
   "source": [
    "def sentiment_category(score1):\n",
    "    if(score1 > 0.4):\n",
    "        return 'Positive'\n",
    "    elif(score1 < .1):\n",
    "        return 'Negative'\n",
    "    else:\n",
    "        return 'Neutral'"
   ]
  },
  {
   "cell_type": "markdown",
   "id": "bdbcc58c",
   "metadata": {},
   "source": [
    "# Inference\n",
    "Defines the'score1' parameter for the'sentiment_category' function. The function uses conditional statements to check the value of \"score1\" within it.\n",
    "\n",
    "'score1' returns the string 'Positive' if it is higher than 0.4.\n",
    "'score1' returns the string 'Negative' if it is less than 0.1.\n",
    "Otherwise, it returns the string \"Neutral\" if none of the aforementioned conditions are true.\n",
    "Sentiment scores are divided into three groups by this function: \"Positive,\" \"Negative,\" and \"Neutral.\"\n"
   ]
  },
  {
   "cell_type": "code",
   "execution_count": 72,
   "id": "0d8eeae4",
   "metadata": {},
   "outputs": [
    {
     "data": {
      "text/html": [
       "<div>\n",
       "<style scoped>\n",
       "    .dataframe tbody tr th:only-of-type {\n",
       "        vertical-align: middle;\n",
       "    }\n",
       "\n",
       "    .dataframe tbody tr th {\n",
       "        vertical-align: top;\n",
       "    }\n",
       "\n",
       "    .dataframe thead th {\n",
       "        text-align: right;\n",
       "    }\n",
       "</style>\n",
       "<table border=\"1\" class=\"dataframe\">\n",
       "  <thead>\n",
       "    <tr style=\"text-align: right;\">\n",
       "      <th></th>\n",
       "      <th>Reviews</th>\n",
       "      <th>sentiment_score</th>\n",
       "      <th>sentiment</th>\n",
       "    </tr>\n",
       "  </thead>\n",
       "  <tbody>\n",
       "    <tr>\n",
       "      <th>0</th>\n",
       "      <td>good</td>\n",
       "      <td>0.4404</td>\n",
       "      <td>Positive</td>\n",
       "    </tr>\n",
       "    <tr>\n",
       "      <th>1</th>\n",
       "      <td>regular groceri</td>\n",
       "      <td>0.0000</td>\n",
       "      <td>Negative</td>\n",
       "    </tr>\n",
       "    <tr>\n",
       "      <th>2</th>\n",
       "      <td>good</td>\n",
       "      <td>0.4404</td>\n",
       "      <td>Positive</td>\n",
       "    </tr>\n",
       "    <tr>\n",
       "      <th>3</th>\n",
       "      <td>cheapest could find onlin</td>\n",
       "      <td>0.0000</td>\n",
       "      <td>Negative</td>\n",
       "    </tr>\n",
       "    <tr>\n",
       "      <th>4</th>\n",
       "      <td>use five year okay never found freez chang textur use enough brand find product compar cheaper</td>\n",
       "      <td>0.2263</td>\n",
       "      <td>Neutral</td>\n",
       "    </tr>\n",
       "    <tr>\n",
       "      <th>5</th>\n",
       "      <td>use product last year complaint brand valu long use experi give confid adulter</td>\n",
       "      <td>-0.2960</td>\n",
       "      <td>Negative</td>\n",
       "    </tr>\n",
       "    <tr>\n",
       "      <th>6</th>\n",
       "      <td>good tast qualiti</td>\n",
       "      <td>0.4404</td>\n",
       "      <td>Positive</td>\n",
       "    </tr>\n",
       "    <tr>\n",
       "      <th>7</th>\n",
       "      <td>think dabur honey better</td>\n",
       "      <td>0.4404</td>\n",
       "      <td>Positive</td>\n",
       "    </tr>\n",
       "    <tr>\n",
       "      <th>8</th>\n",
       "      <td>good flavour valu product</td>\n",
       "      <td>0.4404</td>\n",
       "      <td>Positive</td>\n",
       "    </tr>\n",
       "    <tr>\n",
       "      <th>9</th>\n",
       "      <td>dont know honey produc churn honey industri quantiti tast villag honey honey certainli like origin sold purchas due patanjali brand name els pure honey</td>\n",
       "      <td>0.3612</td>\n",
       "      <td>Neutral</td>\n",
       "    </tr>\n",
       "  </tbody>\n",
       "</table>\n",
       "</div>"
      ],
      "text/plain": [
       "                                                                                                                                                   Reviews  \\\n",
       "0                                                                                                                                                     good   \n",
       "1                                                                                                                                          regular groceri   \n",
       "2                                                                                                                                                     good   \n",
       "3                                                                                                                                cheapest could find onlin   \n",
       "4                                                           use five year okay never found freez chang textur use enough brand find product compar cheaper   \n",
       "5                                                                           use product last year complaint brand valu long use experi give confid adulter   \n",
       "6                                                                                                                                        good tast qualiti   \n",
       "7                                                                                                                                 think dabur honey better   \n",
       "8                                                                                                                                good flavour valu product   \n",
       "9  dont know honey produc churn honey industri quantiti tast villag honey honey certainli like origin sold purchas due patanjali brand name els pure honey   \n",
       "\n",
       "   sentiment_score sentiment  \n",
       "0           0.4404  Positive  \n",
       "1           0.0000  Negative  \n",
       "2           0.4404  Positive  \n",
       "3           0.0000  Negative  \n",
       "4           0.2263   Neutral  \n",
       "5          -0.2960  Negative  \n",
       "6           0.4404  Positive  \n",
       "7           0.4404  Positive  \n",
       "8           0.4404  Positive  \n",
       "9           0.3612   Neutral  "
      ]
     },
     "execution_count": 72,
     "metadata": {},
     "output_type": "execute_result"
    }
   ],
   "source": [
    "df['sentiment'] = df['sentiment_score'].apply(lambda x:sentiment_category(x))\n",
    "df"
   ]
  },
  {
   "cell_type": "code",
   "execution_count": 73,
   "id": "8a5d275a",
   "metadata": {},
   "outputs": [
    {
     "data": {
      "text/plain": [
       "<Axes: xlabel='sentiment', ylabel='count'>"
      ]
     },
     "execution_count": 73,
     "metadata": {},
     "output_type": "execute_result"
    },
    {
     "data": {
      "image/png": "[encoded data removed]",
      "text/plain": [
       "<Figure size 640x480 with 1 Axes>"
      ]
     },
     "metadata": {},
     "output_type": "display_data"
    }
   ],
   "source": [
    "#showing the distribution of sentiment categories\n",
    "sns.countplot(x=df['sentiment'])"
   ]
  },
  {
   "cell_type": "markdown",
   "id": "947ae6a4",
   "metadata": {},
   "source": [
    "# Inference:\n",
    "From the above plot we can see that the positive sentiments are more followed by negative sentiments and than neutral"
   ]
  },
  {
   "cell_type": "code",
   "execution_count": null,
   "id": "765533fa",
   "metadata": {},
   "outputs": [],
   "source": []
  }
 ],
 "metadata": {
  "kernelspec": {
   "display_name": "Python 3 (ipykernel)",
   "language": "python",
   "name": "python3"
  },
  "language_info": {
   "codemirror_mode": {
    "name": "ipython",
    "version": 3
   },
   "file_extension": ".py",
   "mimetype": "text/x-python",
   "name": "python",
   "nbconvert_exporter": "python",
   "pygments_lexer": "ipython3",
   "version": "3.8.16"
  }
 },
 "nbformat": 4,
 "nbformat_minor": 5
}
